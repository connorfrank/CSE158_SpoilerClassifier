{
 "cells": [
  {
   "cell_type": "code",
   "execution_count": 1,
   "metadata": {},
   "outputs": [],
   "source": [
    "import gzip\n",
    "from collections import defaultdict\n",
    "import math\n",
    "import scipy.optimize\n",
    "from sklearn import svm\n",
    "import numpy\n",
    "import string\n",
    "import random\n",
    "import string\n",
    "from sklearn import linear_model\n",
    "import json\n",
    "import matplotlib.pylab as plt\n",
    "import nltk\n",
    "from nltk.corpus import stopwords"
   ]
  },
  {
   "cell_type": "code",
   "execution_count": 2,
   "metadata": {},
   "outputs": [
    {
     "name": "stderr",
     "output_type": "stream",
     "text": [
      "[nltk_data] Downloading package stopwords to\n",
      "[nltk_data]     C:\\Users\\Connor\\AppData\\Roaming\\nltk_data...\n",
      "[nltk_data]   Package stopwords is already up-to-date!\n",
      "[nltk_data] Downloading package punkt to\n",
      "[nltk_data]     C:\\Users\\Connor\\AppData\\Roaming\\nltk_data...\n",
      "[nltk_data]   Package punkt is already up-to-date!\n"
     ]
    },
    {
     "data": {
      "text/plain": [
       "True"
      ]
     },
     "execution_count": 2,
     "metadata": {},
     "output_type": "execute_result"
    }
   ],
   "source": [
    "nltk.download('stopwords')\n",
    "nltk.download('punkt')"
   ]
  },
  {
   "cell_type": "code",
   "execution_count": 3,
   "metadata": {},
   "outputs": [],
   "source": [
    "path = \"goodreads_reviews_spoiler.json.gz\""
   ]
  },
  {
   "cell_type": "code",
   "execution_count": 4,
   "metadata": {},
   "outputs": [],
   "source": [
    "data = []"
   ]
  },
  {
   "cell_type": "code",
   "execution_count": 5,
   "metadata": {},
   "outputs": [],
   "source": [
    "for l in gzip.open(path, 'r'):\n",
    "    d = json.loads(l)\n",
    "    data.append(d)"
   ]
  },
  {
   "cell_type": "code",
   "execution_count": 6,
   "metadata": {},
   "outputs": [
    {
     "data": {
      "text/plain": [
       "{'user_id': '8842281e1d1347389f2ab93d60773d4d',\n",
       " 'timestamp': '2017-08-30',\n",
       " 'review_sentences': [[0, 'This is a special book.'],\n",
       "  [0,\n",
       "   'It started slow for about the first third, then in the middle third it started to get interesting, then the last third blew my mind.'],\n",
       "  [0,\n",
       "   'This is what I love about good science fiction - it pushes your thinking about where things can go.'],\n",
       "  [0,\n",
       "   \"It is a 2015 Hugo winner, and translated from its original Chinese, which made it interesting in just a different way from most things I've read.\"],\n",
       "  [0,\n",
       "   'For instance the intermixing of Chinese revolutionary history - how they kept accusing people of being \"reactionaries\", etc.'],\n",
       "  [0, 'It is a book about science, and aliens.'],\n",
       "  [0,\n",
       "   'The science described in the book is impressive - its a book grounded in physics and pretty accurate as far as I could tell.'],\n",
       "  [1,\n",
       "   'Though when it got to folding protons into 8 dimensions I think he was just making stuff up - interesting to think about though.'],\n",
       "  [1,\n",
       "   'But what would happen if our SETI stations received a message - if we found someone was out there - and the person monitoring and answering the signal on our side was disillusioned?'],\n",
       "  [1,\n",
       "   'That part of the book was a bit dark - I would like to think human reaction to discovering alien civilization that is hostile would be more like Enders Game where we would band together.'],\n",
       "  [1,\n",
       "   'I did like how the book unveiled the Trisolaran culture through the game.'],\n",
       "  [1,\n",
       "   \"It was a smart way to build empathy with them and also understand what they've gone through across so many centuries.\"],\n",
       "  [1, 'And who know a 3 body problem was an unsolvable math problem?'],\n",
       "  [1,\n",
       "   \"But I still don't get who made the game - maybe that will come in the next book.\"],\n",
       "  [1, 'I loved this quote:'],\n",
       "  [1,\n",
       "   '\"In the long history of scientific progress, how many protons have been smashed apart in accelerators by physicists?'],\n",
       "  [1, 'How many neutrons and electrons?'],\n",
       "  [1, 'Probably no fewer than a hundred million.'],\n",
       "  [1,\n",
       "   'Every collision was probably the end of the civilizations and intelligences in a microcosmos.'],\n",
       "  [1,\n",
       "   'In fact, even in nature, the destruction of universes must be happening at every second--for example, through the decay of neutrons.'],\n",
       "  [1,\n",
       "   'Also, a high-energy cosmic ray entering the atmosphere may destroy thousands of such miniature universes....\"']],\n",
       " 'rating': 5,\n",
       " 'has_spoiler': True,\n",
       " 'book_id': '18245960',\n",
       " 'review_id': 'dfdbb7b0eb5a7e4c26d59a937e2e5feb'}"
      ]
     },
     "execution_count": 6,
     "metadata": {},
     "output_type": "execute_result"
    }
   ],
   "source": [
    "data[0]"
   ]
  },
  {
   "cell_type": "code",
   "execution_count": 7,
   "metadata": {},
   "outputs": [],
   "source": [
    "# some useful data structures...\n",
    "users_per_book = defaultdict(list)\n",
    "books_per_user = defaultdict(list)"
   ]
  },
  {
   "cell_type": "code",
   "execution_count": 8,
   "metadata": {},
   "outputs": [],
   "source": [
    "for d in data:\n",
    "    u = d['user_id']\n",
    "    b = d['book_id']\n",
    "    users_per_book[b].append(u)\n",
    "    books_per_user[u].append(b)"
   ]
  },
  {
   "cell_type": "markdown",
   "metadata": {},
   "source": [
    "# Exploratory Analysis"
   ]
  },
  {
   "cell_type": "code",
   "execution_count": 9,
   "metadata": {},
   "outputs": [
    {
     "name": "stdout",
     "output_type": "stream",
     "text": [
      "total reviews, num users, num books\n"
     ]
    },
    {
     "data": {
      "text/plain": [
       "(1378033, 18892, 25475)"
      ]
     },
     "execution_count": 9,
     "metadata": {},
     "output_type": "execute_result"
    }
   ],
   "source": [
    "print('total reviews, num users, num books')\n",
    "len(data), len(books_per_user), len(users_per_book)"
   ]
  },
  {
   "cell_type": "code",
   "execution_count": 10,
   "metadata": {},
   "outputs": [],
   "source": [
    "timestamps = [d['timestamp'] for d in data]"
   ]
  },
  {
   "cell_type": "code",
   "execution_count": 11,
   "metadata": {},
   "outputs": [
    {
     "data": {
      "text/plain": [
       "('2006-12-07', '2017-11-05')"
      ]
     },
     "execution_count": 11,
     "metadata": {},
     "output_type": "execute_result"
    }
   ],
   "source": [
    "timestamps = sorted(timestamps)\n",
    "timestamps[0], timestamps[-1]"
   ]
  },
  {
   "cell_type": "code",
   "execution_count": 12,
   "metadata": {},
   "outputs": [],
   "source": [
    "has_spoiler = [d for d in data if d['has_spoiler']]"
   ]
  },
  {
   "cell_type": "code",
   "execution_count": 13,
   "metadata": {},
   "outputs": [
    {
     "data": {
      "text/plain": [
       "(89627, 6.503980673902585)"
      ]
     },
     "execution_count": 13,
     "metadata": {},
     "output_type": "execute_result"
    }
   ],
   "source": [
    "len(has_spoiler), len(has_spoiler) / len(data) * 100"
   ]
  },
  {
   "cell_type": "code",
   "execution_count": 14,
   "metadata": {},
   "outputs": [],
   "source": [
    "ratings = [d['rating'] for d in data]"
   ]
  },
  {
   "cell_type": "code",
   "execution_count": 15,
   "metadata": {},
   "outputs": [
    {
     "data": {
      "image/png": "[encoded data removed]",
      "text/plain": [
       "<Figure size 432x288 with 1 Axes>"
      ]
     },
     "metadata": {
      "needs_background": "light"
     },
     "output_type": "display_data"
    }
   ],
   "source": [
    "plt.hist(ratings)\n",
    "plt.ylabel('Number of Reviews')\n",
    "plt.xlabel('Rating')\n",
    "plt.title('Rating Distribution')\n",
    "plt.show()"
   ]
  },
  {
   "cell_type": "code",
   "execution_count": 16,
   "metadata": {},
   "outputs": [
    {
     "data": {
      "image/png": "[encoded data removed]",
      "text/plain": [
       "<Figure size 432x288 with 1 Axes>"
      ]
     },
     "metadata": {
      "needs_background": "light"
     },
     "output_type": "display_data"
    }
   ],
   "source": [
    "spoiled_ratings = [d['rating'] for d in has_spoiler]\n",
    "plt.hist(spoiled_ratings)\n",
    "plt.ylabel('Number of Reviews')\n",
    "plt.xlabel('Rating')\n",
    "plt.title('Spoiled Rating Distribution')\n",
    "plt.show()"
   ]
  },
  {
   "cell_type": "code",
   "execution_count": 17,
   "metadata": {},
   "outputs": [
    {
     "data": {
      "text/plain": [
       "(3.577259084873978, 3.6850786592193367)"
      ]
     },
     "execution_count": 17,
     "metadata": {},
     "output_type": "execute_result"
    }
   ],
   "source": [
    "ave_rating = sum(spoiled_ratings) / len(spoiled_ratings)\n",
    "ave_spoiled_rating = sum(ratings) / len(ratings)\n",
    "ave_rating, ave_spoiled_rating"
   ]
  },
  {
   "cell_type": "code",
   "execution_count": 18,
   "metadata": {},
   "outputs": [],
   "source": [
    "spoiled_review_length = []\n",
    "spoiled_review_num_spoilers = []\n",
    "i = 0\n",
    "for d in has_spoiler:\n",
    "    spoiled_review_num_spoilers.append(0)\n",
    "    review_len = 0\n",
    "    for b,s in d['review_sentences']:\n",
    "        if b == 1:\n",
    "            spoiled_review_num_spoilers[i] += 1\n",
    "        review_len += 1 # len(s)\n",
    "    spoiled_review_length.append(review_len)\n",
    "    i += 1"
   ]
  },
  {
   "cell_type": "code",
   "execution_count": 19,
   "metadata": {},
   "outputs": [],
   "source": [
    "#plt.hist(spoiled_review_length)"
   ]
  },
  {
   "cell_type": "code",
   "execution_count": 20,
   "metadata": {},
   "outputs": [],
   "source": [
    "#plt.hist(spoiled_review_num_spoilers)"
   ]
  },
  {
   "cell_type": "code",
   "execution_count": 21,
   "metadata": {},
   "outputs": [],
   "source": [
    "spoil_percentage = []\n",
    "for i in range(0,len(spoiled_review_length)):\n",
    "    p_spoiled = spoiled_review_num_spoilers[i] / spoiled_review_length[i] * 100\n",
    "    spoil_percentage.append(p_spoiled)"
   ]
  },
  {
   "cell_type": "code",
   "execution_count": 22,
   "metadata": {},
   "outputs": [
    {
     "data": {
      "image/png": "[encoded data removed]",
      "text/plain": [
       "<Figure size 432x288 with 1 Axes>"
      ]
     },
     "metadata": {
      "needs_background": "light"
     },
     "output_type": "display_data"
    }
   ],
   "source": [
    "plt.hist(spoil_percentage)\n",
    "plt.ylabel('Number of Reviews')\n",
    "plt.xlabel('% of Review that is Spoiler')\n",
    "plt.title('Spoil Percentage')\n",
    "plt.show()"
   ]
  },
  {
   "cell_type": "code",
   "execution_count": 23,
   "metadata": {},
   "outputs": [
    {
     "data": {
      "text/plain": [
       "28.241436491662572"
      ]
     },
     "execution_count": 23,
     "metadata": {},
     "output_type": "execute_result"
    }
   ],
   "source": [
    "sum(spoil_percentage) / len(spoil_percentage)"
   ]
  },
  {
   "cell_type": "code",
   "execution_count": 24,
   "metadata": {},
   "outputs": [],
   "source": [
    "spoiled_users_per_book = defaultdict(list)\n",
    "spoiled_books_per_user = defaultdict(list) \n",
    "for d in has_spoiler:\n",
    "    num_spoilers = 0\n",
    "    review_len = 0\n",
    "    for b,s in d['review_sentences']:\n",
    "        if b == 1:\n",
    "            num_spoilers += 1\n",
    "        review_len += 1\n",
    "    spoil_percentage = num_spoilers / review_len\n",
    "    \n",
    "    u = d['user_id']\n",
    "    b = d['book_id']\n",
    "    spoiled_books_per_user[u].append((b, spoil_percentage))\n",
    "    spoiled_users_per_book[b].append((u, spoil_percentage))\n"
   ]
  },
  {
   "cell_type": "code",
   "execution_count": 25,
   "metadata": {},
   "outputs": [
    {
     "data": {
      "text/plain": [
       "(16040, 24558)"
      ]
     },
     "execution_count": 25,
     "metadata": {},
     "output_type": "execute_result"
    }
   ],
   "source": [
    "len(spoiled_books_per_user), len(spoiled_users_per_book)"
   ]
  },
  {
   "cell_type": "code",
   "execution_count": 26,
   "metadata": {},
   "outputs": [],
   "source": [
    "users_average_spoilage = defaultdict(float)\n",
    "\n",
    "for u in spoiled_books_per_user:\n",
    "    spoilage_list = [x[1] for x in spoiled_books_per_user[u]]\n",
    "    users_average_spoilage[u] = sum(spoilage_list) / len(spoilage_list)"
   ]
  },
  {
   "cell_type": "code",
   "execution_count": 27,
   "metadata": {},
   "outputs": [],
   "source": [
    "books_average_spoilage = defaultdict(float)\n",
    "\n",
    "for b in spoiled_users_per_book:\n",
    "    user_list = [x[0] for x in spoiled_users_per_book[b]]\n",
    "    spoilage_list = [users_average_spoilage[u] for u in user_list]\n",
    "    books_average_spoilage[b] = sum(spoilage_list) / len(spoilage_list)"
   ]
  },
  {
   "cell_type": "code",
   "execution_count": 28,
   "metadata": {},
   "outputs": [
    {
     "data": {
      "image/png": "[encoded data removed]",
      "text/plain": [
       "<Figure size 432x288 with 1 Axes>"
      ]
     },
     "metadata": {
      "needs_background": "light"
     },
     "output_type": "display_data"
    }
   ],
   "source": [
    "plt.hist(books_average_spoilage.values())\n",
    "plt.title('Books Average Spoilage')\n",
    "plt.ylabel('Num Books')\n",
    "plt.xlabel('Average of Readers\\' Spoil Percentages')\n",
    "plt.show()"
   ]
  },
  {
   "cell_type": "code",
   "execution_count": 29,
   "metadata": {},
   "outputs": [
    {
     "data": {
      "text/plain": [
       "0.28350131162712416"
      ]
     },
     "execution_count": 29,
     "metadata": {},
     "output_type": "execute_result"
    }
   ],
   "source": [
    "sum(books_average_spoilage.values()) / len(books_average_spoilage.values())"
   ]
  },
  {
   "cell_type": "code",
   "execution_count": 30,
   "metadata": {},
   "outputs": [
    {
     "data": {
      "image/png": "[encoded data removed]",
      "text/plain": [
       "<Figure size 432x288 with 1 Axes>"
      ]
     },
     "metadata": {
      "needs_background": "light"
     },
     "output_type": "display_data"
    }
   ],
   "source": [
    "plt.hist(users_average_spoilage.values())\n",
    "plt.title('Users Average Spoilage')\n",
    "plt.ylabel('Num Users')\n",
    "plt.xlabel('Average Spoil Percentage Across Books Read')\n",
    "plt.show()"
   ]
  },
  {
   "cell_type": "code",
   "execution_count": 31,
   "metadata": {},
   "outputs": [
    {
     "data": {
      "text/plain": [
       "0.29916017025514124"
      ]
     },
     "execution_count": 31,
     "metadata": {},
     "output_type": "execute_result"
    }
   ],
   "source": [
    "sum(users_average_spoilage.values()) / len(users_average_spoilage.values())"
   ]
  },
  {
   "cell_type": "markdown",
   "metadata": {},
   "source": [
    "# Predictive Task / Model"
   ]
  },
  {
   "cell_type": "code",
   "execution_count": 32,
   "metadata": {},
   "outputs": [
    {
     "data": {
      "text/plain": [
       "2131228"
      ]
     },
     "execution_count": 32,
     "metadata": {},
     "output_type": "execute_result"
    }
   ],
   "source": [
    "sentences = []\n",
    "for d in has_spoiler:\n",
    "    for b,s in d['review_sentences']:\n",
    "        sentences.append((b,s,d['user_id'],d['book_id']))\n",
    "len(sentences)"
   ]
  },
  {
   "cell_type": "code",
   "execution_count": 33,
   "metadata": {},
   "outputs": [
    {
     "data": {
      "text/plain": [
       "(0, 'This is a special book.', '8842281e1d1347389f2ab93d60773d4d', '18245960')"
      ]
     },
     "execution_count": 33,
     "metadata": {},
     "output_type": "execute_result"
    }
   ],
   "source": [
    "sentences[0]"
   ]
  },
  {
   "cell_type": "code",
   "execution_count": 34,
   "metadata": {},
   "outputs": [
    {
     "data": {
      "text/plain": [
       "(569724, 1561504, 0.2673219383378972)"
      ]
     },
     "execution_count": 34,
     "metadata": {},
     "output_type": "execute_result"
    }
   ],
   "source": [
    "unspoiled = [(s,u,b) for (f,s,u,b) in sentences if f == 0]\n",
    "spoiled = [(s,u,b) for (f,s,u,b) in sentences if f == 1]\n",
    "len(spoiled), len(unspoiled), len(spoiled) / len(sentences)"
   ]
  },
  {
   "cell_type": "code",
   "execution_count": 35,
   "metadata": {},
   "outputs": [
    {
     "data": {
      "text/plain": [
       "400000"
      ]
     },
     "execution_count": 35,
     "metadata": {},
     "output_type": "execute_result"
    }
   ],
   "source": [
    "data = []\n",
    "for i in range(0,200000):\n",
    "    data.append((0,unspoiled[i]))\n",
    "    data.append((1,spoiled[i]))\n",
    "len(data)"
   ]
  },
  {
   "cell_type": "code",
   "execution_count": 36,
   "metadata": {
    "scrolled": true
   },
   "outputs": [
    {
     "data": {
      "text/plain": [
       "((0,\n",
       "  ('This is a special book.', '8842281e1d1347389f2ab93d60773d4d', '18245960')),\n",
       " (1,\n",
       "  ('Though when it got to folding protons into 8 dimensions I think he was just making stuff up - interesting to think about though.',\n",
       "   '8842281e1d1347389f2ab93d60773d4d',\n",
       "   '18245960')))"
      ]
     },
     "execution_count": 36,
     "metadata": {},
     "output_type": "execute_result"
    }
   ],
   "source": [
    "data[0], data[1]"
   ]
  },
  {
   "cell_type": "code",
   "execution_count": 37,
   "metadata": {},
   "outputs": [],
   "source": [
    "unigramCount = defaultdict(int)\n",
    "#bigramCount = defaultdict(int)\n",
    "punctuation = set(string.punctuation)\n",
    "stemmer = nltk.stem.porter.PorterStemmer()\n",
    "for (f,(s,u,b)) in data:\n",
    "    r = ''.join([c for c in s.lower() if not c in punctuation])\n",
    "    unigrams = r.split()\n",
    "#    bigrams = list(nltk.bigrams(unigrams))\n",
    "    for w in unigrams:\n",
    "#        if w in stopwords.words('english'):\n",
    "#            continue\n",
    "        w = stemmer.stem(w)\n",
    "        unigramCount[w] += 1\n",
    "#    for w in bigrams:\n",
    "#        bigramCount[w] += 1\n",
    "\n",
    "unigramCounts = [(unigramCount[w], w) for w in unigramCount]\n",
    "unigramCounts.sort()\n",
    "unigramCounts.reverse()\n",
    "\n",
    "#bigramCounts = [(bigramCount[w], w) for w in bigramCount]\n",
    "#bigramCounts.sort()\n",
    "#bigramCounts.reverse()"
   ]
  },
  {
   "cell_type": "code",
   "execution_count": 38,
   "metadata": {},
   "outputs": [
    {
     "data": {
      "text/plain": [
       "[(302346, 'the'),\n",
       " (192500, 'and'),\n",
       " (170685, 'i'),\n",
       " (163768, 'to'),\n",
       " (142160, 'a'),\n",
       " (129964, 'of'),\n",
       " (112745, 'it'),\n",
       " (108272, 'that'),\n",
       " (91705, 'wa'),\n",
       " (84304, 'in')]"
      ]
     },
     "execution_count": 38,
     "metadata": {},
     "output_type": "execute_result"
    }
   ],
   "source": [
    "unigramCounts[:10]#, bigramCounts[:10]"
   ]
  },
  {
   "cell_type": "code",
   "execution_count": 39,
   "metadata": {},
   "outputs": [],
   "source": [
    "NW = 2000 # dictionary size\n",
    "unigramWords = [x[1] for x in unigramCounts[:NW]]\n",
    "#bigramWords = [x[1] for x in bigramCounts[:NW]]"
   ]
  },
  {
   "cell_type": "code",
   "execution_count": 40,
   "metadata": {},
   "outputs": [],
   "source": [
    "unigramId = dict(zip(unigramWords, range(len(unigramWords))))\n",
    "unigramSet = set(unigramWords)\n",
    "#bigramId = dict(zip(bigramWords, range(len(bigramWords))))\n",
    "#bigramSet = set(bigramWords)\n",
    "\n",
    "def feature(text,uid,bid):\n",
    "    feat = [0]*(len(unigramWords))#+len(bigramWords))\n",
    "    r = ''.join([c for c in text.lower() if not c in punctuation])\n",
    "    unigrams = r.split()\n",
    "#    bigrams = list(nltk.bigrams(unigrams))\n",
    "    for w in unigrams:\n",
    "#        if w in stopwords.words('english'):\n",
    "#            continue\n",
    "        w = stemmer.stem(w)\n",
    "        if w in unigramSet:\n",
    "            feat[unigramId[w]] += 1\n",
    "#    for w in bigrams:\n",
    "#        if w in bigramSet:\n",
    "#            feat[bigramId[w]] += 1\n",
    "    feat.append(users_average_spoilage[uid])\n",
    "    feat.append(books_average_spoilage[bid])\n",
    "    feat.append(1) #offset\n",
    "    return feat\n",
    "\n",
    "X = [feature(s,u,b) for (f,(s,u,b)) in data]\n",
    "y = [f for (f,(s,u,b)) in data]"
   ]
  },
  {
   "cell_type": "code",
   "execution_count": 41,
   "metadata": {},
   "outputs": [],
   "source": [
    "Xtrain = X[:9*len(X)//10]\n",
    "ytrain = y[:9*len(y)//10]\n",
    "Xvalid = X[9*len(X)//10:]\n",
    "yvalid = y[9*len(y)//10:]"
   ]
  },
  {
   "cell_type": "code",
   "execution_count": 42,
   "metadata": {},
   "outputs": [],
   "source": [
    "mod = linear_model.LogisticRegression(C=1)"
   ]
  },
  {
   "cell_type": "code",
   "execution_count": 43,
   "metadata": {},
   "outputs": [
    {
     "name": "stderr",
     "output_type": "stream",
     "text": [
      "C:\\Users\\Connor\\Anaconda3\\lib\\site-packages\\sklearn\\linear_model\\logistic.py:432: FutureWarning: Default solver will be changed to 'lbfgs' in 0.22. Specify a solver to silence this warning.\n",
      "  FutureWarning)\n"
     ]
    },
    {
     "data": {
      "text/plain": [
       "LogisticRegression(C=1, class_weight=None, dual=False, fit_intercept=True,\n",
       "                   intercept_scaling=1, l1_ratio=None, max_iter=100,\n",
       "                   multi_class='warn', n_jobs=None, penalty='l2',\n",
       "                   random_state=None, solver='warn', tol=0.0001, verbose=0,\n",
       "                   warm_start=False)"
      ]
     },
     "execution_count": 43,
     "metadata": {},
     "output_type": "execute_result"
    }
   ],
   "source": [
    "mod.fit(Xtrain, ytrain)"
   ]
  },
  {
   "cell_type": "code",
   "execution_count": 44,
   "metadata": {},
   "outputs": [],
   "source": [
    "pred = mod.predict(Xvalid)"
   ]
  },
  {
   "cell_type": "code",
   "execution_count": 45,
   "metadata": {},
   "outputs": [],
   "source": [
    "correct = pred == yvalid"
   ]
  },
  {
   "cell_type": "code",
   "execution_count": 46,
   "metadata": {},
   "outputs": [],
   "source": [
    "accuracy = sum(correct) / len(correct)"
   ]
  },
  {
   "cell_type": "code",
   "execution_count": 47,
   "metadata": {},
   "outputs": [],
   "source": [
    "true_pos = 0\n",
    "true_neg = 0\n",
    "for i in range(0,len(pred)):\n",
    "    if pred[i] == yvalid[i]:\n",
    "        if pred[i] == 1:\n",
    "            true_pos += 1\n",
    "        else:\n",
    "            true_neg += 1\n",
    "BER = 1 - (.5 * ((true_pos / (len(pred)/2)) + (true_neg / (len(pred)/2))))"
   ]
  },
  {
   "cell_type": "code",
   "execution_count": 48,
   "metadata": {},
   "outputs": [
    {
     "data": {
      "text/plain": [
       "(0.776375, 0.22362499999999996)"
      ]
     },
     "execution_count": 48,
     "metadata": {},
     "output_type": "execute_result"
    }
   ],
   "source": [
    "accuracy, BER"
   ]
  },
  {
   "cell_type": "code",
   "execution_count": 49,
   "metadata": {},
   "outputs": [
    {
     "data": {
      "text/plain": [
       "(15780, 15275)"
      ]
     },
     "execution_count": 49,
     "metadata": {},
     "output_type": "execute_result"
    }
   ],
   "source": [
    "true_pos, true_neg"
   ]
  },
  {
   "cell_type": "code",
   "execution_count": null,
   "metadata": {},
   "outputs": [],
   "source": []
  }
 ],
 "metadata": {
  "kernelspec": {
   "display_name": "Python 3",
   "language": "python",
   "name": "python3"
  },
  "language_info": {
   "codemirror_mode": {
    "name": "ipython",
    "version": 3
   },
   "file_extension": ".py",
   "mimetype": "text/x-python",
   "name": "python",
   "nbconvert_exporter": "python",
   "pygments_lexer": "ipython3",
   "version": "3.7.3"
  }
 },
 "nbformat": 4,
 "nbformat_minor": 2
}
